{
  "nbformat": 4,
  "nbformat_minor": 0,
  "metadata": {
    "colab": {
      "provenance": [],
      "include_colab_link": true
    },
    "kernelspec": {
      "name": "python3",
      "display_name": "Python 3"
    },
    "language_info": {
      "name": "python"
    }
  },
  "cells": [
    {
      "cell_type": "markdown",
      "metadata": {
        "id": "view-in-github",
        "colab_type": "text"
      },
      "source": [
        "<a href=\"https://colab.research.google.com/github/yong-seok/NLP_2023/blob/main/4_3_tryExceptElse_Statement.ipynb\" target=\"_parent\"><img src=\"https://colab.research.google.com/assets/colab-badge.svg\" alt=\"Open In Colab\"/></a>"
      ]
    },
    {
      "cell_type": "markdown",
      "source": [
        "## 🔨 try ~ except ~ else/finally\n",
        "---\n",
        "\n",
        "1. 프로그램을 작성 후 실행되는 동안 오류가 발생하면 프로그램은 더 이상 진행되지 않는다. 이 상황을 예외 (exeption) 상황이라고 한다.\n",
        "\n",
        "2. try: ~ exept:\n",
        "  - Exeption 이 있더라도 프로그램 중단 없이 예외에 대하여 적절히 처리하여 프로그램을 진행시킬 수 있도록 하는 구문\n",
        "\n",
        "3. try: ~ except: ~ else:\n",
        "  - 어떤 로직을 수행했을 때 오류 상황이 아닌 경우에만 어떤 작없을 수행하는 코드를 작성해야 할 때\n",
        "  - 예외 Exception 이 발행하면 else 부분은 수행되지 않음\n",
        "\n",
        "4. try: ~ except: ~ finally:\n",
        "  - 오류 발생과 상관없이 어떤 코드를 무조건 실행 시킬 때\n"
      ],
      "metadata": {
        "id": "3V3eF3-rqKDl"
      }
    },
    {
      "cell_type": "code",
      "execution_count": null,
      "metadata": {
        "colab": {
          "base_uri": "https://localhost:8080/"
        },
        "id": "XKm8hYRNqJE2",
        "outputId": "2013a216-bb94-4365-8f5f-293133e80e67"
      },
      "outputs": [
        {
          "output_type": "stream",
          "name": "stdout",
          "text": [
            "How are you?\n",
            "Exception occurred\n"
          ]
        }
      ],
      "source": [
        "# 위 #2 의 예시\n",
        "\n",
        "try:\n",
        "  print ('How are you?')\n",
        "  print (param) #param 변수가 정의되지 않았으므로 NameError 예외가 발생. 예외가 발생하면 프로그램은 try 블록을 빠져나와 except 블록으로 이동.\n",
        "\n",
        "except:\n",
        "  print ('Exception occurred') #except 블록에서는 \"Exception occurred\"라는 메시지가 출력된다."
      ]
    },
    {
      "cell_type": "code",
      "source": [
        "# 위 #3  (try: ~ exception: ~ else: 에서 else 부분이 실행되지 않은 예시 )\n",
        "\n",
        "try:\n",
        "  print ('How are you?')\n",
        "  print (param) #param 변수를 사용하려고 시도. param 변수가 정의되지 않았으므로 NameError 예외가 발생합니다.\n",
        "\n",
        "except:\n",
        "  print ('Exception occurred.') #예외가 발생하면 프로그램은 try 블록을 빠져나와 except 블록으로 이동. except 블록에서는 \"Exception occurred.\"라는 메시지가 출력.\n",
        "\n",
        "\n",
        "else:\n",
        "  print ('Exception did not occur.') #else 블록은 실행되지 않는다."
      ],
      "metadata": {
        "colab": {
          "base_uri": "https://localhost:8080/"
        },
        "id": "yI5O0MpmuDHE",
        "outputId": "cb151b2e-c3dc-4fe6-e630-ae65091dd9af"
      },
      "execution_count": null,
      "outputs": [
        {
          "output_type": "stream",
          "name": "stdout",
          "text": [
            "How are you?\n",
            "Exception occurred.\n"
          ]
        }
      ]
    },
    {
      "cell_type": "code",
      "source": [
        "# 위 #3  (try: ~ exception: ~ else: 에서 except 부분이 실행되지 않은 예시 )\n",
        "\n",
        "try:\n",
        "  print ('How are you?')\n",
        "#  print (param) #해당 코드라인 비활성화시켜 param 변수 사용하여 출력 시도 안함.\n",
        "\n",
        "except:\n",
        "  print ('Exception occurred.')\n",
        "\n",
        "else:\n",
        "  print ('Exception did not occur.')"
      ],
      "metadata": {
        "colab": {
          "base_uri": "https://localhost:8080/"
        },
        "id": "y46HtrZSu_s2",
        "outputId": "0edaf761-aeec-474b-f2ef-5da6110d966a"
      },
      "execution_count": null,
      "outputs": [
        {
          "output_type": "stream",
          "name": "stdout",
          "text": [
            "How are you?\n",
            "Exception did not occur.\n"
          ]
        }
      ]
    },
    {
      "cell_type": "code",
      "source": [
        "# 위 #4  (try: ~ exception: ~ finally: exeption 예외 발생의 유무에 상관없이 무조건 실행되는 finally 부분 )\n",
        "\n",
        "try:\n",
        "  print ('How are you?')\n",
        "#  print (param)\n",
        "\n",
        "except:\n",
        "  print ('Exception occurred.')\n",
        "\n",
        "finally:\n",
        "  print ('This code should be running.')"
      ],
      "metadata": {
        "colab": {
          "base_uri": "https://localhost:8080/"
        },
        "id": "k8-JM-FevYkh",
        "outputId": "957f2d20-d727-478a-d76b-cfcf1a6d3f2b"
      },
      "execution_count": null,
      "outputs": [
        {
          "output_type": "stream",
          "name": "stdout",
          "text": [
            "How are you?\n",
            "This code should be running.\n"
          ]
        }
      ]
    }
  ]
}