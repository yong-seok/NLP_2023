{
  "nbformat": 4,
  "nbformat_minor": 0,
  "metadata": {
    "colab": {
      "provenance": [],
      "authorship_tag": "ABX9TyNzlV8KnhAVhGa1mxzQXgjP",
      "include_colab_link": true
    },
    "kernelspec": {
      "name": "python3",
      "display_name": "Python 3"
    },
    "language_info": {
      "name": "python"
    }
  },
  "cells": [
    {
      "cell_type": "markdown",
      "metadata": {
        "id": "view-in-github",
        "colab_type": "text"
      },
      "source": [
        "<a href=\"https://colab.research.google.com/github/yong-seok/NLP_2023/blob/main/Untitled8.ipynb\" target=\"_parent\"><img src=\"https://colab.research.google.com/assets/colab-badge.svg\" alt=\"Open In Colab\"/></a>"
      ]
    },
    {
      "cell_type": "code",
      "execution_count": 1,
      "metadata": {
        "colab": {
          "base_uri": "https://localhost:8080/"
        },
        "id": "kRww99yENxkO",
        "outputId": "352b5d4d-1930-4c5f-e92d-be7f1e1b3d59"
      },
      "outputs": [
        {
          "output_type": "stream",
          "name": "stdout",
          "text": [
            "B학점\n",
            "C학점\n"
          ]
        }
      ],
      "source": [
        "score=85\n",
        "if score>=90:\n",
        "  print(\"A학점\")\n",
        "if score>=80:\n",
        "  print(\"B학점\")\n",
        "if score>=70:\n",
        "  print(\"C학점\")\n",
        "if score<=70:\n",
        "  print(\"D학점\")"
      ]
    },
    {
      "cell_type": "code",
      "source": [],
      "metadata": {
        "id": "pL0IFl8PPYHS"
      },
      "execution_count": null,
      "outputs": []
    }
  ]
}