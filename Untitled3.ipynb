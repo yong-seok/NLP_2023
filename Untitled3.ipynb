{
  "nbformat": 4,
  "nbformat_minor": 0,
  "metadata": {
    "colab": {
      "provenance": [],
      "authorship_tag": "ABX9TyMvRZ1bfVlz9BV7Jk57tEDB",
      "include_colab_link": true
    },
    "kernelspec": {
      "name": "python3",
      "display_name": "Python 3"
    },
    "language_info": {
      "name": "python"
    }
  },
  "cells": [
    {
      "cell_type": "markdown",
      "metadata": {
        "id": "view-in-github",
        "colab_type": "text"
      },
      "source": [
        "<a href=\"https://colab.research.google.com/github/yong-seok/NLP_2023/blob/main/Untitled3.ipynb\" target=\"_parent\"><img src=\"https://colab.research.google.com/assets/colab-badge.svg\" alt=\"Open In Colab\"/></a>"
      ]
    },
    {
      "cell_type": "code",
      "execution_count": 1,
      "metadata": {
        "colab": {
          "base_uri": "https://localhost:8080/"
        },
        "id": "xL1Q0AA2uxdD",
        "outputId": "4b0f52e1-9d34-4749-f8ec-3e04bf4c5ae5"
      },
      "outputs": [
        {
          "output_type": "stream",
          "name": "stdout",
          "text": [
            "1\n",
            "4\n"
          ]
        }
      ],
      "source": [
        "def even_num(*args):\n",
        "    \"\"\" 짝수의 개수를 반환 \"\"\"\n",
        "    count = 0\n",
        "    for arg in args:\n",
        "        if arg % 2 == 0:\n",
        "            count += 1\n",
        "\n",
        "    return count\n",
        "\n",
        "# 예시 1\n",
        "print(even_num(1,2,3))\n",
        "\n",
        "# 예시 2\n",
        "print(even_num(2,3,4,6,7,8))"
      ]
    },
    {
      "cell_type": "code",
      "source": [],
      "metadata": {
        "id": "ER-Kl-LyvNOc"
      },
      "execution_count": null,
      "outputs": []
    }
  ]
}