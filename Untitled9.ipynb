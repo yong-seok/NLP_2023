{
  "nbformat": 4,
  "nbformat_minor": 0,
  "metadata": {
    "colab": {
      "provenance": [],
      "authorship_tag": "ABX9TyNWL6C7wjj9wnJvjXMbEtEu",
      "include_colab_link": true
    },
    "kernelspec": {
      "name": "python3",
      "display_name": "Python 3"
    },
    "language_info": {
      "name": "python"
    }
  },
  "cells": [
    {
      "cell_type": "markdown",
      "metadata": {
        "id": "view-in-github",
        "colab_type": "text"
      },
      "source": [
        "<a href=\"https://colab.research.google.com/github/yong-seok/NLP_2023/blob/main/Untitled9.ipynb\" target=\"_parent\"><img src=\"https://colab.research.google.com/assets/colab-badge.svg\" alt=\"Open In Colab\"/></a>"
      ]
    },
    {
      "cell_type": "code",
      "execution_count": null,
      "metadata": {
        "colab": {
          "base_uri": "https://localhost:8080/"
        },
        "id": "dm1at4EnfThI",
        "outputId": "894d07c6-ba19-4ce5-f8ea-8bd47138b6d8"
      },
      "outputs": [
        {
          "output_type": "stream",
          "name": "stdout",
          "text": [
            "자판기 메뉴\n",
            "1. 음료 1000원 2. 과자 2000원 3. 껌 500원\n"
          ]
        }
      ],
      "source": [
        "print(\"자판기 메뉴\")\n",
        "print(\"1. 음료 1000원 2. 과자 2000원 3. 껌 500원\")\n",
        "cracker = 2000\n",
        "drink = 1000\n",
        "ggum = 500\n",
        "money = int(input(\"Insert Coin : \"))\n",
        "if money >= cracker:\n",
        "  print (\"음료，과자, 껌을 모두 구입할 수 있습니다.\")\n",
        "elif money < cracker and money > drink:\n",
        "  print(\"음료，껌을구입할 수 있습니다.\")\n",
        "\n",
        "\n",
        "elif money < drink and money>= ggum:\n",
        "  print(\"껌을 구입할 수 있습니다.\")\n",
        "else:\n",
        "  print (\"아무것도 구입할 수 없습니다.\")"
      ]
    },
    {
      "cell_type": "code",
      "source": [],
      "metadata": {
        "id": "pphZs8Sxjwgx"
      },
      "execution_count": 13,
      "outputs": []
    }
  ]
}