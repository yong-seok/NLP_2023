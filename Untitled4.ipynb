{
  "nbformat": 4,
  "nbformat_minor": 0,
  "metadata": {
    "colab": {
      "provenance": [],
      "authorship_tag": "ABX9TyNa03YKz5Y/5Me3EnBDl/E1",
      "include_colab_link": true
    },
    "kernelspec": {
      "name": "python3",
      "display_name": "Python 3"
    },
    "language_info": {
      "name": "python"
    }
  },
  "cells": [
    {
      "cell_type": "markdown",
      "metadata": {
        "id": "view-in-github",
        "colab_type": "text"
      },
      "source": [
        "<a href=\"https://colab.research.google.com/github/yong-seok/NLP_2023/blob/main/Untitled4.ipynb\" target=\"_parent\"><img src=\"https://colab.research.google.com/assets/colab-badge.svg\" alt=\"Open In Colab\"/></a>"
      ]
    },
    {
      "cell_type": "code",
      "execution_count": null,
      "metadata": {
        "id": "eN8GFpdNFlEd"
      },
      "outputs": [],
      "source": [
        "def rock_paper_scissors_game(n):\n",
        "\n",
        "win_count = 0\n",
        "\n",
        "draw_count = 0\n",
        "\n",
        "lose_count = 0\n",
        "\n",
        "​\n",
        "\n",
        "for _ in range(n):\n",
        "\n",
        "user_choice = input().lower()\n",
        "\n",
        "computer_choice = input().lower()"
      ]
    }
  ]
}