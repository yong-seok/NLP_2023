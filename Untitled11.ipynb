{
  "nbformat": 4,
  "nbformat_minor": 0,
  "metadata": {
    "colab": {
      "provenance": [],
      "authorship_tag": "ABX9TyNu1DAxmf3Hann/ZHaUbTXD",
      "include_colab_link": true
    },
    "kernelspec": {
      "name": "python3",
      "display_name": "Python 3"
    },
    "language_info": {
      "name": "python"
    }
  },
  "cells": [
    {
      "cell_type": "markdown",
      "metadata": {
        "id": "view-in-github",
        "colab_type": "text"
      },
      "source": [
        "<a href=\"https://colab.research.google.com/github/yong-seok/NLP_2023/blob/main/Untitled11.ipynb\" target=\"_parent\"><img src=\"https://colab.research.google.com/assets/colab-badge.svg\" alt=\"Open In Colab\"/></a>"
      ]
    },
    {
      "cell_type": "code",
      "execution_count": null,
      "metadata": {
        "id": "lgiMI5kuT52E"
      },
      "outputs": [],
      "source": [
        "arr = list(map(int,input().split()))\n",
        "for i in arr:\n",
        "    print(i)"
      ]
    },
    {
      "cell_type": "code",
      "source": [
        "s = input()\n",
        "print(s[0:2], s[2:4], s[4:6], sep=' ')"
      ],
      "metadata": {
        "id": "CpA17w5bT7Ay"
      },
      "execution_count": null,
      "outputs": []
    },
    {
      "cell_type": "code",
      "source": [
        "n = ord(input())\n",
        "print(n)"
      ],
      "metadata": {
        "id": "gCICAPBaT_rs"
      },
      "execution_count": null,
      "outputs": []
    },
    {
      "cell_type": "code",
      "source": [],
      "metadata": {
        "id": "dyE-gTe5UEHl"
      },
      "execution_count": null,
      "outputs": []
    }
  ]
}